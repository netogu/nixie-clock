{
 "cells": [
  {
   "cell_type": "markdown",
   "id": "e0987221-fe8f-4748-8276-894abb5f1fdc",
   "metadata": {},
   "source": [
    "# Nixie-Clock Power Supply"
   ]
  },
  {
   "cell_type": "markdown",
   "id": "b286fa79-4a42-49f5-95c2-d5345e6a1fef",
   "metadata": {},
   "source": [
    "## Requirements:"
   ]
  },
  {
   "cell_type": "code",
   "execution_count": 38,
   "id": "01f0be7e-08e2-4ff8-bf43-d3dfcd11f5e4",
   "metadata": {},
   "outputs": [],
   "source": [
    "import math\n",
    "\n",
    "class OutputWinding:\n",
    "    \"\"\"Power Supply Output Winding\"\"\"\n",
    "    \n",
    "    name:str\n",
    "    volts:float\n",
    "    load:float\n",
    "    ocp:float #Over-current protection level in A\n",
    "    lof:float #Load occupying factor\n",
    "    N:int #Number of windings\n",
    "    \n",
    "    def __init__(self,name:str, vout:float, load:float):\n",
    "        self.name = name\n",
    "        self.volts = vout\n",
    "        self.load = load\n",
    "        self.lof = 0\n",
    "        self.N = 0\n",
    "        \n",
    "    @property\n",
    "    def power(self):\n",
    "        return self.volts * self.load\n",
    "    \n",
    "    def __repr__(self):\n",
    "        return f\"{self.name} : [{self.volts:2.2f}V, {self.load:2.2f}A, {self.power:2.2f}W] : N={self.N} | lof={self.lof*100:2.2f}%\"\n",
    "    \n",
    "class FlybackConverter:\n",
    "    \"\"\" Flyback DC/DC Power converter \"\"\"\n",
    "    \n",
    "    outputs:list[OutputWinding] = []  #List of Flyback Output Rails\n",
    "    fsw:float  #Switching Frequency\n",
    "    effmin: float #Minimum Efficiency Target\n",
    "    dmax:float #Maximum Duty Cycle\n",
    "    \n",
    "    def __init__(self, vin_range:list, outputs:list[OutputWinding], fsw:float, dmax:float, effmin:float, ocp:float=0.650):\n",
    "        self.vin_range = vin_range\n",
    "        self.vinmin = min(self.vin_range)\n",
    "        self.vinmax = max(self.vin_range)\n",
    "        self.outputs = outputs\n",
    "        self.effmin = effmin\n",
    "        self.fsw = fsw\n",
    "        self.dmax = dmax\n",
    "        self.ocp = ocp\n",
    "        self._refresh_lof()\n",
    "        self.calc_fet_currents()\n",
    "    \n",
    "    def add_output_winding(self, output:OutputWinding):\n",
    "        outputs.append(output)\n",
    "        self._refresh_lof()\n",
    "    \n",
    "    def _refresh_lof(self):\n",
    "        \"\"\" Refresh winding Load Occupying Factors\"\"\"\n",
    "        for output in self.outputs:\n",
    "            output.lof = output.power/self.total_output_power\n",
    "    \n",
    "    @property\n",
    "    def total_output_power(self):\n",
    "        pout_total = 0\n",
    "        for output in self.outputs:\n",
    "            pout_total += output.power\n",
    "        return pout_total\n",
    "    \n",
    "    @property\n",
    "    def input_power(self):\n",
    "        return self.total_output_power/self.effmin\n",
    "            \n",
    "    def __repr__(self):\n",
    "        s = f\"Vin(min) = {self.vinmin:2.2f}VDC\\n\"\n",
    "        s +=  f\"Vin(max) = {self.vinmax:2.2f}VDC\\n\"\n",
    "        s +=  f\"Pin = {self.input_power:2.2f}W (effmin = {self.effmin*100:2.2f}%)\"\n",
    "        return s\n",
    "    \n",
    "    @property\n",
    "    def vro(self):\n",
    "        \"\"\" Reflected Output Voltage \"\"\"\n",
    "        \n",
    "        return self.dmax/(1 - self.dmax) * self.vinmin\n",
    "        \n",
    "    @property\n",
    "    def vds_nom(self):\n",
    "        \"\"\" Returns ballpark worst case FET Vds voltage\"\"\"\n",
    "        return self.vro + self.vinmax\n",
    "       \n",
    "    @property\n",
    "    def lm_max(self):\n",
    "        \"\"\" Max Primary Inductance to operate in DCM \"\"\"\n",
    "        return (self.vinmin * self.dmax)**2 / (2*self.input_power*self.fsw)\n",
    "    \n",
    "    def calc_fet_currents(self):\n",
    "        \"\"\" Derives Primary FET peak and RMS currents\"\"\"\n",
    "        try:\n",
    "            lm = self.lm\n",
    "        except AttributeError:\n",
    "            lm = self.lm_max\n",
    "        iedc = self.input_power/(self.vinmin*self.dmax)\n",
    "        dilm = self.vinmin*self.dmax / (lm*self.fsw)\n",
    "        self.ids_pk = iedc + dilm/2.0\n",
    "        self.ids_rms = math.sqrt((3*iedc**2 + (dilm/2.0)**2)*self.dmax/3.0) \n",
    "        \n",
    "        \n",
    "    def np_min(self,bsat:float, ae:float):\n",
    "        try:\n",
    "            lm = self.lm\n",
    "        except AttributeError:\n",
    "            lm = self.lm_max\n",
    "            \n",
    "        return lm*self.ocp/(bsat*ae)\n",
    "    \n",
    "    def get_magcore_k_const(self, bmax:float, imax:float, coil_res:float, ku:float):\n",
    "        \"\"\" Calculate magnetic core geometric constant Kg \"\"\"\n",
    "        \n",
    "        res_cu = 1.72e-8 # Ohm-m\n",
    "        \n",
    "        try:\n",
    "            lm = self.lm\n",
    "        except AttributeError:\n",
    "            lm = self.lm_max\n",
    "            \n",
    "        return lm**2*imax**2*res_cu/(bmax**2*coil_res*ku)\n",
    "        \n",
    "        \n",
    "    \n",
    "    \n",
    "    \n",
    "    \n",
    "    \n",
    "    \n",
    "    \n",
    "    \n",
    "\n",
    "    \n",
    "    \n",
    "    \n",
    "    "
   ]
  },
  {
   "cell_type": "code",
   "execution_count": 39,
   "id": "0bf3a28d-5701-40f7-8624-1777a70e84a9",
   "metadata": {},
   "outputs": [],
   "source": [
    "output1 = OutputWinding(name = 'nixie rail', vout = 180.0, load = 25e-3)\n",
    "output2 = OutputWinding(name = 'logic rail', vout = 3.3, load = 280e-3)\n",
    "flyback = FlybackConverter(vin_range = [115, 373], outputs=[output1,output2], fsw=67e3, dmax=0.45, effmin=0.75)\n"
   ]
  },
  {
   "cell_type": "code",
   "execution_count": 41,
   "id": "89159b4a-7f30-46ed-a954-1a3961829a5d",
   "metadata": {},
   "outputs": [
    {
     "data": {
      "text/plain": [
       "0.0027634874232267863"
      ]
     },
     "execution_count": 41,
     "metadata": {},
     "output_type": "execute_result"
    }
   ],
   "source": [
    "flyback.lm_max"
   ]
  },
  {
   "cell_type": "markdown",
   "id": "632a5e53-87e0-452b-9743-d7ec5732cd6d",
   "metadata": {},
   "source": [
    "# Core Selection:"
   ]
  },
  {
   "cell_type": "code",
   "execution_count": 36,
   "id": "48a5a8f1-87ff-4f9b-bef6-f3f8cdadaa9d",
   "metadata": {},
   "outputs": [
    {
     "name": "stdout",
     "output_type": "stream",
     "text": [
      "98\n",
      "1.5101246671962772e-12\n"
     ]
    }
   ],
   "source": [
    "bsat = 0.35 #T\n",
    "ae = 52.2 #mm^2\n",
    "ocp = 0.65\n",
    "res = 1.0\n",
    "ku = 0.3\n",
    "\n",
    "np_min = flyback.lm_max * ocp / (bsat*ae) * 10**6\n",
    "\n",
    "print(round(np_min))\n",
    "\n",
    "kg = flyback.get_magcore_k_const(bmax=bsat, imax=ocp, coil_res=res, ku=ku)\n",
    "print(kg)"
   ]
  },
  {
   "cell_type": "code",
   "execution_count": 37,
   "id": "e1008ef7-0588-4c8a-b05d-911e21e003fe",
   "metadata": {},
   "outputs": [
    {
     "data": {
      "text/plain": [
       "0.0027634874232267863"
      ]
     },
     "execution_count": 37,
     "metadata": {},
     "output_type": "execute_result"
    }
   ],
   "source": [
    "flyback.lm_max"
   ]
  },
  {
   "cell_type": "code",
   "execution_count": null,
   "id": "5b49cf43-cd19-4a08-ae1f-927e0f8131b2",
   "metadata": {},
   "outputs": [],
   "source": []
  }
 ],
 "metadata": {
  "kernelspec": {
   "display_name": "Python 3 (ipykernel)",
   "language": "python",
   "name": "python3"
  },
  "language_info": {
   "codemirror_mode": {
    "name": "ipython",
    "version": 3
   },
   "file_extension": ".py",
   "mimetype": "text/x-python",
   "name": "python",
   "nbconvert_exporter": "python",
   "pygments_lexer": "ipython3",
   "version": "3.9.5"
  }
 },
 "nbformat": 4,
 "nbformat_minor": 5
}
